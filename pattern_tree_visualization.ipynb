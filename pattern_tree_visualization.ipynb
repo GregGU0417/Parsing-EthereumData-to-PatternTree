{
 "cells": [
  {
   "cell_type": "code",
   "execution_count": 13,
   "id": "1247ab1e",
   "metadata": {},
   "outputs": [],
   "source": [
    "import pandas as pd\n",
    "import numpy as np\n",
    "from sshtunnel import SSHTunnelForwarder\n",
    "import pymongo\n",
    "import pprint\n",
    "import pandas as pd\n",
    "#from mongodb import client\n",
    "from treeParsing import PatternTreeParsing\n",
    "from graphviz import Digraph\n",
    "import networkx as nx\n",
    "import networkx.algorithms.isomorphism as iso"
   ]
  },
  {
   "cell_type": "code",
   "execution_count": 2,
   "id": "9f701848",
   "metadata": {},
   "outputs": [],
   "source": [
    "#change it to you way of get transaction frame\n",
    "ethereum = client[\"ethereum\"]\n",
    "transaction=ethereum[\"transaction\"]"
   ]
  },
  {
   "cell_type": "code",
   "execution_count": 3,
   "id": "b3772fa8",
   "metadata": {},
   "outputs": [],
   "source": [
    "#get your TX hash\n",
    "id=\"0x2cf98dd2609ffe224ce81d4f60a759b36f868aca757592653d4abff2abdcd61a\" "
   ]
  },
  {
   "cell_type": "code",
   "execution_count": 4,
   "id": "3210e81e",
   "metadata": {},
   "outputs": [],
   "source": [
    "# change it to your api to get the call frame\n",
    "samples=transaction.find({'_id':id})\n",
    "df_notes=pd.DataFrame(samples)\n",
    "df_notes['stack'][0]\n",
    "frame_list=df_notes['stack'][0]"
   ]
  },
  {
   "cell_type": "code",
   "execution_count": 5,
   "id": "9a180009",
   "metadata": {},
   "outputs": [],
   "source": [
    "# keep this if you are analysis ethereum data\n",
    "platformToken='0xC02aaA39b223FE8D0A0e5C4F27eAD9083C756Cc2'.lower()"
   ]
  },
  {
   "cell_type": "code",
   "execution_count": 6,
   "id": "6a55e21f",
   "metadata": {},
   "outputs": [],
   "source": [
    "pattern_file=pd.read_csv('./pattern.csv')\n",
    "pattern_list=pattern_file['pattern']"
   ]
  },
  {
   "cell_type": "code",
   "execution_count": 7,
   "id": "64269d99",
   "metadata": {},
   "outputs": [],
   "source": [
    "# calling PatternTreeParsing Class\n",
    "patternTree=PatternTreeParsing(frame_list,platformToken,pattern_list)\n",
    "# get parsing tree\n",
    "list_of_parsing=patternTree.list_of_parsing\n",
    "graph=patternTree.graph\n",
    "# get pruning tree\n",
    "simplify_tree=patternTree.simplify_tree\n",
    "# get patttern tree\n",
    "pattern_tree=patternTree.pattern_tree\n",
    "#get discriptive pattern tree\n",
    "discriptive_pattern_tree=patternTree.discriptive_pattern_tree"
   ]
  },
  {
   "cell_type": "code",
   "execution_count": 8,
   "id": "ef5ce551",
   "metadata": {},
   "outputs": [
    {
     "data": {
      "text/plain": [
       "[{'node': 'transfer_T0_1_2/burn_T3_2/transfer_T4_5_2/transfer_T4_2_1',\n",
       "  'degree': '0-0',\n",
       "  'address_mapping': {'Burn': 'Burn',\n",
       "   'Mint': 'Mint',\n",
       "   '5': '0xbebc44782c7db0a1a60cb6fe97d0b483032ff1c7',\n",
       "   '2': '0xed279fdd11ca84beef15af5d39bb4d4bee23f0ca',\n",
       "   '1': '0xd8c07491caa1edf960db3ceff387426d53942ea0'},\n",
       "  'token_mapping': {'T4': ['0x6b175474e89094c44da98b954eedeac495271d0f'],\n",
       "   'T3': ['0x6c3f90f043a72fa612cbac8115ee7e52bde6e490'],\n",
       "   'T0': ['0x5f98805a4e8be255a32880fdec7f6728c6568ba0']},\n",
       "  'nft_mapping': {}},\n",
       " {'node': 'transfer_T0_1_2/transfer_T3_2_1',\n",
       "  'degree': '0-1',\n",
       "  'address_mapping': {'Burn': 'Burn',\n",
       "   'Mint': 'Mint',\n",
       "   '1': '0xd8c07491caa1edf960db3ceff387426d53942ea0',\n",
       "   '2': '0xba12222222228d8ba445958a75a0704d566bf2c8'},\n",
       "  'token_mapping': {'T3': ['0x5f98805a4e8be255a32880fdec7f6728c6568ba0'],\n",
       "   'T0': ['0x6b175474e89094c44da98b954eedeac495271d0f']},\n",
       "  'nft_mapping': {}},\n",
       " {'node': 'empty', 'degree': '0'}]"
      ]
     },
     "execution_count": 8,
     "metadata": {},
     "output_type": "execute_result"
    }
   ],
   "source": [
    "#Check Parsing Tree\n",
    "discriptive_pattern_tree"
   ]
  },
  {
   "cell_type": "code",
   "execution_count": 9,
   "id": "ec0bfc70",
   "metadata": {},
   "outputs": [],
   "source": [
    "# visualize parsing tree\n",
    "g1 = Digraph('G', filename=\"parsing_tree\"+id+\".gv\")\n",
    "for i in range(len(list_of_parsing)):\n",
    "    if list_of_parsing[i]['type']==\"empty\":\n",
    "        g1.node(str(i), label='empty')\n",
    "        \n",
    "    elif list_of_parsing[i]['type']==\"mint\":\n",
    "        string=\"mint \\n\"+\"token: \"+list_of_parsing[i]['token']+\"\\n to: \"+list_of_parsing[i]['to']\n",
    "        if(list_of_parsing[i]['tokenID']== 'empty'): \n",
    "            string=\"mint\\n \"+\"token: \"+list_of_parsing[i]['token']+\"\\n to: \"+list_of_parsing[i]['to']\n",
    "            g1.node(str(i), label=string)\n",
    "        else:\n",
    "            string=\"mint\\n \"+\"nft token: \"+list_of_parsing[i]['token']+\", \"+str(list_of_parsing[i]['tokenID'])+\"\\n to:\"+list_of_parsing[i]['to']\n",
    "            g1.node(str(i), label=string)  \n",
    "            \n",
    "    elif list_of_parsing[i]['type']==\"burn\":\n",
    "        if(list_of_parsing[i]['tokenID']== 'empty'): \n",
    "            g1.node(str(i), label=\"burn\\n \"+\"token: \"+list_of_parsing[i]['token']+\"\\n from:\"+list_of_parsing[i]['from'])\n",
    "        else:\n",
    "            g1.node(str(i), label=\"burn \\n \"+\"nft token: \"+list_of_parsing[i]['token']+\" \"+str(list_of_parsing[i]['tokenID'])+\"\\n from:\"+list_of_parsing[i]['from'])  \n",
    "    else:\n",
    "        if(list_of_parsing[i]['tokenID']== 'empty'): \n",
    "            g1.node(str(i), label=\"transfer\\n \"+\"token: \"+list_of_parsing[i]['token']+\"\\n from: \"+list_of_parsing[i]['from']+\"\\n to:\"+list_of_parsing[i]['to'])\n",
    "        else:\n",
    "            g1.node(str(i), label=\"transfer \\n\"+\"nft token: \"+list_of_parsing[i]['token']+\" \"+str(list_of_parsing[i]['tokenID'])+\"\\n from:\"+list_of_parsing[i]['from']+\"\\n to:\"+list_of_parsing[i]['to'])  \n",
    "for j in  graph.keys():\n",
    "    for k in graph[j]:\n",
    "        g1.edge(str(j), str(k))"
   ]
  },
  {
   "cell_type": "code",
   "execution_count": 10,
   "id": "cd4d9a48",
   "metadata": {},
   "outputs": [],
   "source": [
    "# visualize pruning tree\n",
    "effective_node=patternTree.get_effective_nodes(simplify_tree)\n",
    "g2 = Digraph('G', filename=\"pruning tree\"+id+\".gv\")\n",
    "for i in range(len(list_of_parsing)):\n",
    "    if i not in effective_node:\n",
    "        continue\n",
    "    if list_of_parsing[i]['type']==\"empty\":\n",
    "        g2.node(str(i), label='empty')\n",
    "        \n",
    "    elif list_of_parsing[i]['type']==\"mint\":\n",
    "        string=\"mint \\n\"+\"token: \"+list_of_parsing[i]['token']+\"\\n to: \"+list_of_parsing[i]['to']\n",
    "        if(list_of_parsing[i]['tokenID']== 'empty'): \n",
    "            string=\"mint\\n \"+\"token: \"+list_of_parsing[i]['token']+\"\\n to: \"+list_of_parsing[i]['to']\n",
    "            g2.node(str(i), label=string)\n",
    "        else:\n",
    "            string=\"mint\\n \"+\"nft token: \"+list_of_parsing[i]['token']+\", \"+str(list_of_parsing[i]['tokenID'])+\"\\n to:\"+list_of_parsing[i]['to']\n",
    "            g2.node(str(i), label=string)  \n",
    "            \n",
    "    elif list_of_parsing[i]['type']==\"burn\":\n",
    "        if(list_of_parsing[i]['tokenID']== 'empty'): \n",
    "            g2.node(str(i), label=\"burn\\n \"+\"token: \"+list_of_parsing[i]['token']+\"\\n from:\"+list_of_parsing[i]['from'])\n",
    "        else:\n",
    "            g2.node(str(i), label=\"burn \\n \"+\"nft token: \"+list_of_parsing[i]['token']+\" \"+str(list_of_parsing[i]['tokenID'])+\"\\n from:\"+list_of_parsing[i]['from'])  \n",
    "    else:\n",
    "        if(list_of_parsing[i]['tokenID']== 'empty'): \n",
    "            g2.node(str(i), label=\"transfer\\n \"+\"token: \"+list_of_parsing[i]['token']+\"\\n from: \"+list_of_parsing[i]['from']+\"\\n to:\"+list_of_parsing[i]['to'])\n",
    "        else:\n",
    "            g2.node(str(i), label=\"transfer \\n\"+\"nft token: \"+list_of_parsing[i]['token']+\" \"+str(list_of_parsing[i]['tokenID'])+\"\\n from:\"+list_of_parsing[i]['from']+\"\\n to:\"+list_of_parsing[i]['to'])  \n",
    "for j in  simplify_tree.keys():\n",
    "    for k in simplify_tree[j]:\n",
    "        g2.edge(str(j), str(k))"
   ]
  },
  {
   "cell_type": "code",
   "execution_count": 11,
   "id": "6e17d4c3",
   "metadata": {},
   "outputs": [],
   "source": [
    "# visualize pattern tree\n",
    "g3 = Digraph('G', filename=\"pattern_tree\"+id+\".gv\")\n",
    "for i in range(len(pattern_tree)):\n",
    "    g3.node(pattern_tree[i]['degree'], label=pattern_tree[i]['node'])\n",
    "for i in range(len(pattern_tree)):\n",
    "    if pattern_tree[i]['degree']!='0':  \n",
    "        father_node=pattern_tree[i]['degree'][:-2]\n",
    "        g3.edge(father_node, pattern_tree[i]['degree'])"
   ]
  },
  {
   "cell_type": "code",
   "execution_count": 12,
   "id": "a614539f",
   "metadata": {},
   "outputs": [
    {
     "data": {
      "text/plain": [
       "'pattern_tree0x2cf98dd2609ffe224ce81d4f60a759b36f868aca757592653d4abff2abdcd61a.gv.pdf'"
      ]
     },
     "execution_count": 12,
     "metadata": {},
     "output_type": "execute_result"
    }
   ],
   "source": [
    "g1.view()\n",
    "g2.view()\n",
    "g3.view()"
   ]
  }
 ],
 "metadata": {
  "kernelspec": {
   "display_name": "Python 3 (ipykernel)",
   "language": "python",
   "name": "python3"
  },
  "language_info": {
   "codemirror_mode": {
    "name": "ipython",
    "version": 3
   },
   "file_extension": ".py",
   "mimetype": "text/x-python",
   "name": "python",
   "nbconvert_exporter": "python",
   "pygments_lexer": "ipython3",
   "version": "3.10.6"
  }
 },
 "nbformat": 4,
 "nbformat_minor": 5
}
